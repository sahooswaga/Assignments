{
  "nbformat": 4,
  "nbformat_minor": 0,
  "metadata": {
    "colab": {
      "provenance": []
    },
    "kernelspec": {
      "name": "python3",
      "display_name": "Python 3"
    },
    "language_info": {
      "name": "python"
    }
  },
  "cells": [
    {
      "cell_type": "code",
      "execution_count": null,
      "metadata": {
        "id": "el66SW4miqVo"
      },
      "outputs": [],
      "source": [
        "'''The hypotheses for this problem are:\n",
        "\n",
        "Null Hypothesis (H₀): The mean weekly operating cost is equal to the theoretical cost, i.e.,\n",
        "μ=3000 (calculated using the model: W=1000+5×600).\n",
        "\n",
        "Alternative Hypothesis (H₁): The mean weekly operating cost is higher than the theoretical cost, i.e., μ>3000.'''"
      ]
    },
    {
      "cell_type": "code",
      "source": [
        "import math\n",
        "from scipy.stats import norm\n",
        "\n",
        "# Given values\n",
        "sample_mean = 3050\n",
        "theoretical_mean = 1000 + 5 * 600  # 3000\n",
        "std_dev = 5 * 25  # 125\n",
        "n = 25\n",
        "\n",
        "#Calculate the test statistic\n",
        "t_statistic = (sample_mean - theoretical_mean) / (std_dev / math.sqrt(n))\n",
        "print('Test Statistic (t):', t_statistic)\n",
        "\n",
        "#Determine the critical value (Z-value for a one-tailed test at α = 0.05)\n",
        "alpha = 0.05\n",
        "z_critical = norm.ppf(1 - alpha)\n",
        "print('Critical Value (Z):', z_critical)\n",
        "\n",
        "#Make a decision\n",
        "if t_statistic > z_critical:\n",
        "    print('Reject the null hypothesis (H₀). There is evidence to support the claim that weekly operating costs are higher.')\n",
        "else:\n",
        "    print('Fail to reject the null hypothesis (H₀). There is not enough evidence to support the claim that weekly operating costs are higher.')"
      ],
      "metadata": {
        "colab": {
          "base_uri": "https://localhost:8080/"
        },
        "id": "Tg-QyTjAi6eZ",
        "outputId": "a6a560be-9e36-4885-ef27-87c9e495674e"
      },
      "execution_count": 1,
      "outputs": [
        {
          "output_type": "stream",
          "name": "stdout",
          "text": [
            "Test Statistic (t): -38.0\n",
            "Critical Value (Z): 1.6448536269514722\n",
            "Fail to reject the null hypothesis (H₀). There is not enough evidence to support the claim that weekly operating costs are higher.\n"
          ]
        }
      ]
    },
    {
      "cell_type": "code",
      "source": [
        "'''Given the outputs:\n",
        "\n",
        "The calculated test statistic (t) is −38.0.\n",
        "The critical value (Z) for a one-tailed test at α=0.05 is 1.645.\n",
        "\n",
        "Decision Rule:\n",
        "Since the test statistic t is significantly less than the critical value Z (i.e., −38.0<1.645), we fail to reject the null hypothesis H0.'''"
      ],
      "metadata": {
        "id": "e3WoDesMi6bK"
      },
      "execution_count": null,
      "outputs": []
    },
    {
      "cell_type": "code",
      "source": [
        "'''Conclusion:\n",
        "Based on the test statistic of −38.0 and the critical value of 1.645, we fail to reject the null hypothesis.\n",
        "This result suggests that there is no statistically significant evidence\n",
        "to support the restaurant owners' claim that the weekly operating costs are higher than what the theoretical model predicts'''"
      ],
      "metadata": {
        "id": "sNptMEDUi6Yd"
      },
      "execution_count": null,
      "outputs": []
    }
  ]
}