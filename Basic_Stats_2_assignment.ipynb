{
  "nbformat": 4,
  "nbformat_minor": 0,
  "metadata": {
    "colab": {
      "provenance": []
    },
    "kernelspec": {
      "name": "python3",
      "display_name": "Python 3"
    },
    "language_info": {
      "name": "python"
    }
  },
  "cells": [
    {
      "cell_type": "code",
      "execution_count": 1,
      "metadata": {
        "id": "Oos2T7v0JQk-"
      },
      "outputs": [],
      "source": [
        "import numpy as np\n",
        "from scipy import stats"
      ]
    },
    {
      "cell_type": "code",
      "source": [
        "'''Data:\n",
        "A total of 15 print-heads were randomly selected and tested until failure. The durability of each print-head (in millions of characters) was recorded as follows:\n",
        "1.13, 1.55, 1.43, 0.92, 1.25, 1.36, 1.32, 0.85, 1.07, 1.48, 1.20, 1.33, 1.18, 1.22, 1.29'''"
      ],
      "metadata": {
        "id": "uEd4JJIvJcRF"
      },
      "execution_count": null,
      "outputs": []
    },
    {
      "cell_type": "code",
      "source": [
        "'''a. Build 99% Confidence Interval Using Sample Standard Deviation\n",
        "Assuming the sample is representative of the population,\n",
        "construct a 99% confidence interval for the mean number of characters printed before the print-head fails using the sample standard deviation.\n",
        "Explain the steps you take and the rationale behind using the t-distribution for this task.'''"
      ],
      "metadata": {
        "id": "EMYDwW6FJcNj"
      },
      "execution_count": null,
      "outputs": []
    },
    {
      "cell_type": "code",
      "source": [
        "# Data for the print-head durability (in millions of characters)\n",
        "data = np.array([1.13, 1.55, 1.43, 0.92, 1.25, 1.36, 1.32, 0.85, 1.07, 1.48, 1.20, 1.33, 1.18, 1.22, 1.29])\n",
        "\n",
        "# Sample statistics\n",
        "mean = np.mean(data)\n",
        "std_dev = np.std(data, ddof=1)  # Sample standard deviation\n",
        "n = len(data)  # Sample size\n",
        "\n",
        "# 99% confidence interval using t-distribution\n",
        "confidence_level = 0.99\n",
        "alpha = 1 - confidence_level\n",
        "t_critical = stats.t.ppf(1 - alpha/2, df=n-1)\n",
        "\n",
        "# Margin of error\n",
        "margin_of_error = t_critical * (std_dev / np.sqrt(n))\n",
        "\n",
        "# Confidence interval\n",
        "confidence_interval = (mean - margin_of_error, mean + margin_of_error)\n",
        "\n",
        "print('Sample Mean:', mean)\n",
        "print('Sample Standard Deviation:', std_dev)\n",
        "print('99% Confidence Interval:', confidence_interval)"
      ],
      "metadata": {
        "colab": {
          "base_uri": "https://localhost:8080/"
        },
        "id": "5dEAoMfAJcKv",
        "outputId": "825ba42b-684e-4e03-d0cf-827785a87f72"
      },
      "execution_count": 4,
      "outputs": [
        {
          "output_type": "stream",
          "name": "stdout",
          "text": [
            "Sample Mean: 1.2386666666666666\n",
            "Sample Standard Deviation: 0.19316412956959936\n",
            "99% Confidence Interval: (1.0901973384384906, 1.3871359948948425)\n"
          ]
        }
      ]
    },
    {
      "cell_type": "code",
      "source": [
        "'''b. Build 99% Confidence Interval Using Known Population Standard Deviation\n",
        "If it were known that the population standard deviation is 0.2 million characters,\n",
        "construct a 99% confidence interval for the mean number of characters printed before failure.'''"
      ],
      "metadata": {
        "id": "kMbWTzubJcHv"
      },
      "execution_count": null,
      "outputs": []
    },
    {
      "cell_type": "code",
      "source": [
        "# Known population standard deviation\n",
        "pop_std_dev = 0.2\n",
        "\n",
        "# Sample statistics\n",
        "mean = np.mean(data)\n",
        "n = len(data)  # Sample size\n",
        "\n",
        "# 99% confidence interval using normal distribution\n",
        "confidence_level = 0.99\n",
        "alpha = 1 - confidence_level\n",
        "z_critical = stats.norm.ppf(1 - alpha/2)\n",
        "\n",
        "# Margin of error\n",
        "margin_of_error = z_critical * (pop_std_dev / np.sqrt(n))\n",
        "\n",
        "# Confidence interval\n",
        "confidence_interval = (mean - margin_of_error, mean + margin_of_error)\n",
        "\n",
        "print('Sample Mean:', mean)\n",
        "print('Known Population Standard Deviation:', pop_std_dev)\n",
        "print('99% Confidence Interval:', confidence_interval)"
      ],
      "metadata": {
        "colab": {
          "base_uri": "https://localhost:8080/"
        },
        "id": "ArMJeEMuJcEP",
        "outputId": "77ece3b7-c0d1-46e8-ea24-eead754fd5b9"
      },
      "execution_count": 5,
      "outputs": [
        {
          "output_type": "stream",
          "name": "stdout",
          "text": [
            "Sample Mean: 1.2386666666666666\n",
            "Known Population Standard Deviation: 0.2\n",
            "99% Confidence Interval: (1.1056514133957607, 1.3716819199375725)\n"
          ]
        }
      ]
    },
    {
      "cell_type": "code",
      "source": [],
      "metadata": {
        "id": "p6lFnPlRJcAq"
      },
      "execution_count": null,
      "outputs": []
    }
  ]
}