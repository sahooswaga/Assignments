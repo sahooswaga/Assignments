{
  "nbformat": 4,
  "nbformat_minor": 0,
  "metadata": {
    "colab": {
      "provenance": []
    },
    "kernelspec": {
      "name": "python3",
      "display_name": "Python 3"
    },
    "language_info": {
      "name": "python"
    }
  },
  "cells": [
    {
      "cell_type": "code",
      "execution_count": null,
      "metadata": {
        "id": "evKsfe5tmoX-"
      },
      "outputs": [],
      "source": [
        "'''The hypotheses for the Chi-Square test are:\n",
        "\n",
        "Null Hypothesis (H0): There is no association between the type of smart home device purchased and the customer satisfaction level.\n",
        "\n",
        "Alternative Hypothesis (H1): There is an association between the type of smart home device purchased and the customer satisfaction level.'''"
      ]
    },
    {
      "cell_type": "code",
      "source": [
        "import numpy as np\n",
        "import scipy.stats as stats\n",
        "\n",
        "# Contingency table\n",
        "data = np.array([[50, 70],\n",
        "                 [80, 100],\n",
        "                 [60, 90],\n",
        "                 [30, 50],\n",
        "                 [20, 50]])\n",
        "\n",
        "#Chi-Square test\n",
        "chi2_stat, p_val, dof, expected = stats.chi2_contingency(data)\n",
        "\n",
        "print('Chi-Square Statistic:', chi2_stat)\n",
        "print('P-Value:', p_val)\n",
        "print('Degrees of Freedom:', dof)\n",
        "print('Expected Frequencies:')\n",
        "print(expected)"
      ],
      "metadata": {
        "colab": {
          "base_uri": "https://localhost:8080/"
        },
        "id": "wxN8NAHimzma",
        "outputId": "1b747696-107f-4391-cad4-bd7a5bde731e"
      },
      "execution_count": 1,
      "outputs": [
        {
          "output_type": "stream",
          "name": "stdout",
          "text": [
            "Chi-Square Statistic: 5.638227513227513\n",
            "P-Value: 0.22784371130697179\n",
            "Degrees of Freedom: 4\n",
            "Expected Frequencies:\n",
            "[[ 48.  72.]\n",
            " [ 72. 108.]\n",
            " [ 60.  90.]\n",
            " [ 32.  48.]\n",
            " [ 28.  42.]]\n"
          ]
        }
      ]
    },
    {
      "cell_type": "code",
      "source": [
        "#Determining the Critical Value\n",
        "alpha = 0.05\n",
        "critical_value = stats.chi2.ppf(1 - alpha, dof)\n",
        "print('Critical Value:', critical_value)"
      ],
      "metadata": {
        "colab": {
          "base_uri": "https://localhost:8080/"
        },
        "id": "3CiJqkoOmzi-",
        "outputId": "30d49e4a-92e6-4687-d26e-e10f8395473d"
      },
      "execution_count": 2,
      "outputs": [
        {
          "output_type": "stream",
          "name": "stdout",
          "text": [
            "Critical Value: 9.487729036781154\n"
          ]
        }
      ]
    },
    {
      "cell_type": "code",
      "source": [
        "#Decision Making\n",
        "if chi2_stat > critical_value:\n",
        "    print('Reject the null hypothesis (H0): There is an association between device type and customer satisfaction.')\n",
        "else:\n",
        "    print('Fail to reject the null hypothesis (H0): There is no association between device type and customer satisfaction.')"
      ],
      "metadata": {
        "colab": {
          "base_uri": "https://localhost:8080/"
        },
        "id": "hCiRQRNvmzgF",
        "outputId": "5b548d0c-4ca0-4a18-d531-e917cf4d66f8"
      },
      "execution_count": 3,
      "outputs": [
        {
          "output_type": "stream",
          "name": "stdout",
          "text": [
            "Fail to reject the null hypothesis (H0): There is no association between device type and customer satisfaction.\n"
          ]
        }
      ]
    },
    {
      "cell_type": "code",
      "source": [
        "'''Conclusion:\n",
        "After conducting the Chi-Square test for independence to examine the relationship between\n",
        "the type of smart home device (Smart Thermostats vs. Smart Lights) and customer satisfaction levels, the results are as follows:\n",
        "\n",
        "Chi-Square Statistic: 5.64\n",
        "Degrees of Freedom: 4\n",
        "Critical Value: 9.49\n",
        "P-Value: 0.23\n",
        "\n",
        "Since the Chi-Square statistic (5.64) is less than the critical value (9.49)\n",
        "and the P-value (0.23) is greater than the significance level of 0.05, we fail to reject the null hypothesis (H0).'''"
      ],
      "metadata": {
        "id": "M3uI7D5WopkJ"
      },
      "execution_count": null,
      "outputs": []
    }
  ]
}